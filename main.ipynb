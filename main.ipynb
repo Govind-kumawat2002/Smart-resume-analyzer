{
 "cells": [
  {
   "cell_type": "code",
   "execution_count": 29,
   "metadata": {},
   "outputs": [
    {
     "name": "stdout",
     "output_type": "stream",
     "text": [
      "Accuracy: 0.6338028169014085\n"
     ]
    }
   ],
   "source": [
    "import pandas as pd\n",
    "from sklearn.model_selection import train_test_split\n",
    "from sklearn.feature_extraction.text import TfidfVectorizer\n",
    "from sklearn.preprocessing import LabelEncoder\n",
    "from sklearn.linear_model import LogisticRegression\n",
    "import joblib\n",
    "\n",
    "# Load Dataset\n",
    "df = pd.read_csv('resume_dataset.csv')\n",
    "\n",
    "# Preprocessing: Extract only text-based columns\n",
    "X = df['Resume_str']\n",
    "y = df['Category']\n",
    "\n",
    "# Split the data into training and testing sets\n",
    "X_train, X_test, y_train, y_test = train_test_split(X, y, test_size=0.2, random_state=42)\n",
    "\n",
    "# Vectorize the text using TF-IDF\n",
    "vectorizer = TfidfVectorizer(max_features=5000)\n",
    "X_train_vec = vectorizer.fit_transform(X_train)\n",
    "X_test_vec = vectorizer.transform(X_test)\n",
    "\n",
    "\n",
    "\n",
    "# Encode the job categories\n",
    "label_encoder = LabelEncoder()\n",
    "y_train_enc = label_encoder.fit_transform(y_train)\n",
    "y_test_enc = label_encoder.transform(y_test)\n",
    "\n",
    "\n",
    "# Train a Logistic Regression model\n",
    "model = LogisticRegression(max_iter=1000)\n",
    "model.fit(X_train_vec, y_train_enc)\n",
    "\n",
    "joblib.dump(model, 'model/model.pkl')\n",
    "joblib.dump(vectorizer, 'model/vectorizer.pkl')  # If you need to save it separately\n",
    "joblib.dump(label_encoder, 'model/label_encoder.pkl')\n",
    "\n",
    "# Evaluate the model\n",
    "accuracy = model.score(X_test_vec, y_test_enc)\n",
    "print(f'Accuracy: {accuracy}')\n",
    "\n",
    "def extract_skills(resume_text):\n",
    "    # Predefined list of skills\n",
    "    skills_list = ['python', 'java', 'sql', 'machine learning', 'deep learning', 'data analysis']\n",
    "    \n",
    "    # Find skills mentioned in the resume\n",
    "    skills = [skill for skill in skills_list if skill.lower() in resume_text.lower()]\n",
    "    return skills\n",
    "\n",
    "def calculate_experience_score(resume_text):\n",
    "    keywords = ['years of experience', 'worked for', 'experience']\n",
    "    score = sum(1 for word in keywords if word in resume_text.lower())\n",
    "    return min(score * 20, 100)  # Scale to 100\n",
    "\n",
    "def calculate_education_score(resume_text):\n",
    "    education_keywords = ['bachelor', 'master', 'phd', 'graduate', 'diploma']\n",
    "    score = sum(1 for word in education_keywords if word in resume_text.lower())\n",
    "    return min(score * 20, 100)  # Scale to 100\n"
   ]
  },
  {
   "cell_type": "code",
   "execution_count": 15,
   "metadata": {},
   "outputs": [],
   "source": []
  },
  {
   "cell_type": "code",
   "execution_count": 16,
   "metadata": {},
   "outputs": [],
   "source": []
  },
  {
   "cell_type": "code",
   "execution_count": 23,
   "metadata": {},
   "outputs": [],
   "source": [
    "\n"
   ]
  },
  {
   "cell_type": "code",
   "execution_count": 24,
   "metadata": {},
   "outputs": [],
   "source": []
  },
  {
   "cell_type": "code",
   "execution_count": 25,
   "metadata": {},
   "outputs": [],
   "source": []
  },
  {
   "cell_type": "code",
   "execution_count": null,
   "metadata": {},
   "outputs": [],
   "source": []
  }
 ],
 "metadata": {
  "kernelspec": {
   "display_name": "Python 3",
   "language": "python",
   "name": "python3"
  },
  "language_info": {
   "codemirror_mode": {
    "name": "ipython",
    "version": 3
   },
   "file_extension": ".py",
   "mimetype": "text/x-python",
   "name": "python",
   "nbconvert_exporter": "python",
   "pygments_lexer": "ipython3",
   "version": "3.12.2"
  }
 },
 "nbformat": 4,
 "nbformat_minor": 2
}
